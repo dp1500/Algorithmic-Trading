{
  "nbformat": 4,
  "nbformat_minor": 0,
  "metadata": {
    "colab": {
      "provenance": [],
      "authorship_tag": "ABX9TyOw3jlPAA0DLdLFi8ySclcf",
      "include_colab_link": true
    },
    "kernelspec": {
      "name": "python3",
      "display_name": "Python 3"
    },
    "language_info": {
      "name": "python"
    }
  },
  "cells": [
    {
      "cell_type": "markdown",
      "metadata": {
        "id": "view-in-github",
        "colab_type": "text"
      },
      "source": [
        "<a href=\"https://colab.research.google.com/github/dp1500/Algorithmic-Trading/blob/main/RSI_%26_Bollinger_AAPL_DAY.ipynb\" target=\"_parent\"><img src=\"https://colab.research.google.com/assets/colab-badge.svg\" alt=\"Open In Colab\"/></a>"
      ]
    },
    {
      "cell_type": "code",
      "execution_count": 1,
      "metadata": {
        "id": "Q7tZRLW1bxkb"
      },
      "outputs": [],
      "source": [
        "import pandas as pd\n",
        "import matplotlib.pyplot as plt"
      ]
    },
    {
      "cell_type": "code",
      "source": [
        "# Load data\n",
        "df = pd.read_csv('HistoricalQuotes.csv')\n"
      ],
      "metadata": {
        "id": "VdVVfWVAb4oG"
      },
      "execution_count": 2,
      "outputs": []
    },
    {
      "cell_type": "code",
      "source": [
        "print(df[\"Close\"].dtype)"
      ],
      "metadata": {
        "colab": {
          "base_uri": "https://localhost:8080/"
        },
        "id": "ahxo7mYQcFcc",
        "outputId": "6f2e2f05-8477-4a9e-a5dd-6b8c99564cb3"
      },
      "execution_count": 3,
      "outputs": [
        {
          "output_type": "stream",
          "name": "stdout",
          "text": [
            "float64\n"
          ]
        }
      ]
    },
    {
      "cell_type": "code",
      "source": [
        "df['Date'] = pd.to_datetime(df['Date'])\n",
        "df.set_index('Date', inplace=True)\n",
        "df = df.sort_index(ascending=True)"
      ],
      "metadata": {
        "id": "h4zWugXmcEaF"
      },
      "execution_count": 4,
      "outputs": []
    },
    {
      "cell_type": "code",
      "source": [
        "df"
      ],
      "metadata": {
        "colab": {
          "base_uri": "https://localhost:8080/",
          "height": 455
        },
        "id": "fc94ljJ0b6RB",
        "outputId": "25017014-4577-4ab6-b0ea-992d97db39a4"
      },
      "execution_count": 5,
      "outputs": [
        {
          "output_type": "execute_result",
          "data": {
            "text/plain": [
              "             Close     Volume      Open      High       Low\n",
              "Date                                                       \n",
              "2010-03-01   29.86  137312041   29.3928   29.9286   29.3500\n",
              "2010-03-02   29.84  141486282   29.9900   30.1186   29.6771\n",
              "2010-03-03   29.90   92846488   29.8486   29.9814   29.7057\n",
              "2010-03-04   30.10   89591907   29.8971   30.1314   29.8043\n",
              "2010-03-05   31.28  224647427   30.7057   31.3857   30.6614\n",
              "...            ...        ...       ...       ...       ...\n",
              "2020-02-24  298.18   55548830  297.2600  304.1800  289.2300\n",
              "2020-02-25  288.08   57668360  300.9500  302.5300  286.1300\n",
              "2020-02-26  292.65   49678430  286.5300  297.8800  286.5000\n",
              "2020-02-27  273.52   80151380  281.1000  286.0000  272.9600\n",
              "2020-02-28  273.36  106721200  257.2600  278.4100  256.3700\n",
              "\n",
              "[2518 rows x 5 columns]"
            ],
            "text/html": [
              "\n",
              "  <div id=\"df-c505d12c-4c25-4837-a11d-86e6c1c1f407\" class=\"colab-df-container\">\n",
              "    <div>\n",
              "<style scoped>\n",
              "    .dataframe tbody tr th:only-of-type {\n",
              "        vertical-align: middle;\n",
              "    }\n",
              "\n",
              "    .dataframe tbody tr th {\n",
              "        vertical-align: top;\n",
              "    }\n",
              "\n",
              "    .dataframe thead th {\n",
              "        text-align: right;\n",
              "    }\n",
              "</style>\n",
              "<table border=\"1\" class=\"dataframe\">\n",
              "  <thead>\n",
              "    <tr style=\"text-align: right;\">\n",
              "      <th></th>\n",
              "      <th>Close</th>\n",
              "      <th>Volume</th>\n",
              "      <th>Open</th>\n",
              "      <th>High</th>\n",
              "      <th>Low</th>\n",
              "    </tr>\n",
              "    <tr>\n",
              "      <th>Date</th>\n",
              "      <th></th>\n",
              "      <th></th>\n",
              "      <th></th>\n",
              "      <th></th>\n",
              "      <th></th>\n",
              "    </tr>\n",
              "  </thead>\n",
              "  <tbody>\n",
              "    <tr>\n",
              "      <th>2010-03-01</th>\n",
              "      <td>29.86</td>\n",
              "      <td>137312041</td>\n",
              "      <td>29.3928</td>\n",
              "      <td>29.9286</td>\n",
              "      <td>29.3500</td>\n",
              "    </tr>\n",
              "    <tr>\n",
              "      <th>2010-03-02</th>\n",
              "      <td>29.84</td>\n",
              "      <td>141486282</td>\n",
              "      <td>29.9900</td>\n",
              "      <td>30.1186</td>\n",
              "      <td>29.6771</td>\n",
              "    </tr>\n",
              "    <tr>\n",
              "      <th>2010-03-03</th>\n",
              "      <td>29.90</td>\n",
              "      <td>92846488</td>\n",
              "      <td>29.8486</td>\n",
              "      <td>29.9814</td>\n",
              "      <td>29.7057</td>\n",
              "    </tr>\n",
              "    <tr>\n",
              "      <th>2010-03-04</th>\n",
              "      <td>30.10</td>\n",
              "      <td>89591907</td>\n",
              "      <td>29.8971</td>\n",
              "      <td>30.1314</td>\n",
              "      <td>29.8043</td>\n",
              "    </tr>\n",
              "    <tr>\n",
              "      <th>2010-03-05</th>\n",
              "      <td>31.28</td>\n",
              "      <td>224647427</td>\n",
              "      <td>30.7057</td>\n",
              "      <td>31.3857</td>\n",
              "      <td>30.6614</td>\n",
              "    </tr>\n",
              "    <tr>\n",
              "      <th>...</th>\n",
              "      <td>...</td>\n",
              "      <td>...</td>\n",
              "      <td>...</td>\n",
              "      <td>...</td>\n",
              "      <td>...</td>\n",
              "    </tr>\n",
              "    <tr>\n",
              "      <th>2020-02-24</th>\n",
              "      <td>298.18</td>\n",
              "      <td>55548830</td>\n",
              "      <td>297.2600</td>\n",
              "      <td>304.1800</td>\n",
              "      <td>289.2300</td>\n",
              "    </tr>\n",
              "    <tr>\n",
              "      <th>2020-02-25</th>\n",
              "      <td>288.08</td>\n",
              "      <td>57668360</td>\n",
              "      <td>300.9500</td>\n",
              "      <td>302.5300</td>\n",
              "      <td>286.1300</td>\n",
              "    </tr>\n",
              "    <tr>\n",
              "      <th>2020-02-26</th>\n",
              "      <td>292.65</td>\n",
              "      <td>49678430</td>\n",
              "      <td>286.5300</td>\n",
              "      <td>297.8800</td>\n",
              "      <td>286.5000</td>\n",
              "    </tr>\n",
              "    <tr>\n",
              "      <th>2020-02-27</th>\n",
              "      <td>273.52</td>\n",
              "      <td>80151380</td>\n",
              "      <td>281.1000</td>\n",
              "      <td>286.0000</td>\n",
              "      <td>272.9600</td>\n",
              "    </tr>\n",
              "    <tr>\n",
              "      <th>2020-02-28</th>\n",
              "      <td>273.36</td>\n",
              "      <td>106721200</td>\n",
              "      <td>257.2600</td>\n",
              "      <td>278.4100</td>\n",
              "      <td>256.3700</td>\n",
              "    </tr>\n",
              "  </tbody>\n",
              "</table>\n",
              "<p>2518 rows × 5 columns</p>\n",
              "</div>\n",
              "    <div class=\"colab-df-buttons\">\n",
              "\n",
              "  <div class=\"colab-df-container\">\n",
              "    <button class=\"colab-df-convert\" onclick=\"convertToInteractive('df-c505d12c-4c25-4837-a11d-86e6c1c1f407')\"\n",
              "            title=\"Convert this dataframe to an interactive table.\"\n",
              "            style=\"display:none;\">\n",
              "\n",
              "  <svg xmlns=\"http://www.w3.org/2000/svg\" height=\"24px\" viewBox=\"0 -960 960 960\">\n",
              "    <path d=\"M120-120v-720h720v720H120Zm60-500h600v-160H180v160Zm220 220h160v-160H400v160Zm0 220h160v-160H400v160ZM180-400h160v-160H180v160Zm440 0h160v-160H620v160ZM180-180h160v-160H180v160Zm440 0h160v-160H620v160Z\"/>\n",
              "  </svg>\n",
              "    </button>\n",
              "\n",
              "  <style>\n",
              "    .colab-df-container {\n",
              "      display:flex;\n",
              "      gap: 12px;\n",
              "    }\n",
              "\n",
              "    .colab-df-convert {\n",
              "      background-color: #E8F0FE;\n",
              "      border: none;\n",
              "      border-radius: 50%;\n",
              "      cursor: pointer;\n",
              "      display: none;\n",
              "      fill: #1967D2;\n",
              "      height: 32px;\n",
              "      padding: 0 0 0 0;\n",
              "      width: 32px;\n",
              "    }\n",
              "\n",
              "    .colab-df-convert:hover {\n",
              "      background-color: #E2EBFA;\n",
              "      box-shadow: 0px 1px 2px rgba(60, 64, 67, 0.3), 0px 1px 3px 1px rgba(60, 64, 67, 0.15);\n",
              "      fill: #174EA6;\n",
              "    }\n",
              "\n",
              "    .colab-df-buttons div {\n",
              "      margin-bottom: 4px;\n",
              "    }\n",
              "\n",
              "    [theme=dark] .colab-df-convert {\n",
              "      background-color: #3B4455;\n",
              "      fill: #D2E3FC;\n",
              "    }\n",
              "\n",
              "    [theme=dark] .colab-df-convert:hover {\n",
              "      background-color: #434B5C;\n",
              "      box-shadow: 0px 1px 3px 1px rgba(0, 0, 0, 0.15);\n",
              "      filter: drop-shadow(0px 1px 2px rgba(0, 0, 0, 0.3));\n",
              "      fill: #FFFFFF;\n",
              "    }\n",
              "  </style>\n",
              "\n",
              "    <script>\n",
              "      const buttonEl =\n",
              "        document.querySelector('#df-c505d12c-4c25-4837-a11d-86e6c1c1f407 button.colab-df-convert');\n",
              "      buttonEl.style.display =\n",
              "        google.colab.kernel.accessAllowed ? 'block' : 'none';\n",
              "\n",
              "      async function convertToInteractive(key) {\n",
              "        const element = document.querySelector('#df-c505d12c-4c25-4837-a11d-86e6c1c1f407');\n",
              "        const dataTable =\n",
              "          await google.colab.kernel.invokeFunction('convertToInteractive',\n",
              "                                                    [key], {});\n",
              "        if (!dataTable) return;\n",
              "\n",
              "        const docLinkHtml = 'Like what you see? Visit the ' +\n",
              "          '<a target=\"_blank\" href=https://colab.research.google.com/notebooks/data_table.ipynb>data table notebook</a>'\n",
              "          + ' to learn more about interactive tables.';\n",
              "        element.innerHTML = '';\n",
              "        dataTable['output_type'] = 'display_data';\n",
              "        await google.colab.output.renderOutput(dataTable, element);\n",
              "        const docLink = document.createElement('div');\n",
              "        docLink.innerHTML = docLinkHtml;\n",
              "        element.appendChild(docLink);\n",
              "      }\n",
              "    </script>\n",
              "  </div>\n",
              "\n",
              "\n",
              "<div id=\"df-1b8f6b9a-cd6d-4e1f-8b9f-261178cfd5e4\">\n",
              "  <button class=\"colab-df-quickchart\" onclick=\"quickchart('df-1b8f6b9a-cd6d-4e1f-8b9f-261178cfd5e4')\"\n",
              "            title=\"Suggest charts.\"\n",
              "            style=\"display:none;\">\n",
              "\n",
              "<svg xmlns=\"http://www.w3.org/2000/svg\" height=\"24px\"viewBox=\"0 0 24 24\"\n",
              "     width=\"24px\">\n",
              "    <g>\n",
              "        <path d=\"M19 3H5c-1.1 0-2 .9-2 2v14c0 1.1.9 2 2 2h14c1.1 0 2-.9 2-2V5c0-1.1-.9-2-2-2zM9 17H7v-7h2v7zm4 0h-2V7h2v10zm4 0h-2v-4h2v4z\"/>\n",
              "    </g>\n",
              "</svg>\n",
              "  </button>\n",
              "\n",
              "<style>\n",
              "  .colab-df-quickchart {\n",
              "      --bg-color: #E8F0FE;\n",
              "      --fill-color: #1967D2;\n",
              "      --hover-bg-color: #E2EBFA;\n",
              "      --hover-fill-color: #174EA6;\n",
              "      --disabled-fill-color: #AAA;\n",
              "      --disabled-bg-color: #DDD;\n",
              "  }\n",
              "\n",
              "  [theme=dark] .colab-df-quickchart {\n",
              "      --bg-color: #3B4455;\n",
              "      --fill-color: #D2E3FC;\n",
              "      --hover-bg-color: #434B5C;\n",
              "      --hover-fill-color: #FFFFFF;\n",
              "      --disabled-bg-color: #3B4455;\n",
              "      --disabled-fill-color: #666;\n",
              "  }\n",
              "\n",
              "  .colab-df-quickchart {\n",
              "    background-color: var(--bg-color);\n",
              "    border: none;\n",
              "    border-radius: 50%;\n",
              "    cursor: pointer;\n",
              "    display: none;\n",
              "    fill: var(--fill-color);\n",
              "    height: 32px;\n",
              "    padding: 0;\n",
              "    width: 32px;\n",
              "  }\n",
              "\n",
              "  .colab-df-quickchart:hover {\n",
              "    background-color: var(--hover-bg-color);\n",
              "    box-shadow: 0 1px 2px rgba(60, 64, 67, 0.3), 0 1px 3px 1px rgba(60, 64, 67, 0.15);\n",
              "    fill: var(--button-hover-fill-color);\n",
              "  }\n",
              "\n",
              "  .colab-df-quickchart-complete:disabled,\n",
              "  .colab-df-quickchart-complete:disabled:hover {\n",
              "    background-color: var(--disabled-bg-color);\n",
              "    fill: var(--disabled-fill-color);\n",
              "    box-shadow: none;\n",
              "  }\n",
              "\n",
              "  .colab-df-spinner {\n",
              "    border: 2px solid var(--fill-color);\n",
              "    border-color: transparent;\n",
              "    border-bottom-color: var(--fill-color);\n",
              "    animation:\n",
              "      spin 1s steps(1) infinite;\n",
              "  }\n",
              "\n",
              "  @keyframes spin {\n",
              "    0% {\n",
              "      border-color: transparent;\n",
              "      border-bottom-color: var(--fill-color);\n",
              "      border-left-color: var(--fill-color);\n",
              "    }\n",
              "    20% {\n",
              "      border-color: transparent;\n",
              "      border-left-color: var(--fill-color);\n",
              "      border-top-color: var(--fill-color);\n",
              "    }\n",
              "    30% {\n",
              "      border-color: transparent;\n",
              "      border-left-color: var(--fill-color);\n",
              "      border-top-color: var(--fill-color);\n",
              "      border-right-color: var(--fill-color);\n",
              "    }\n",
              "    40% {\n",
              "      border-color: transparent;\n",
              "      border-right-color: var(--fill-color);\n",
              "      border-top-color: var(--fill-color);\n",
              "    }\n",
              "    60% {\n",
              "      border-color: transparent;\n",
              "      border-right-color: var(--fill-color);\n",
              "    }\n",
              "    80% {\n",
              "      border-color: transparent;\n",
              "      border-right-color: var(--fill-color);\n",
              "      border-bottom-color: var(--fill-color);\n",
              "    }\n",
              "    90% {\n",
              "      border-color: transparent;\n",
              "      border-bottom-color: var(--fill-color);\n",
              "    }\n",
              "  }\n",
              "</style>\n",
              "\n",
              "  <script>\n",
              "    async function quickchart(key) {\n",
              "      const quickchartButtonEl =\n",
              "        document.querySelector('#' + key + ' button');\n",
              "      quickchartButtonEl.disabled = true;  // To prevent multiple clicks.\n",
              "      quickchartButtonEl.classList.add('colab-df-spinner');\n",
              "      try {\n",
              "        const charts = await google.colab.kernel.invokeFunction(\n",
              "            'suggestCharts', [key], {});\n",
              "      } catch (error) {\n",
              "        console.error('Error during call to suggestCharts:', error);\n",
              "      }\n",
              "      quickchartButtonEl.classList.remove('colab-df-spinner');\n",
              "      quickchartButtonEl.classList.add('colab-df-quickchart-complete');\n",
              "    }\n",
              "    (() => {\n",
              "      let quickchartButtonEl =\n",
              "        document.querySelector('#df-1b8f6b9a-cd6d-4e1f-8b9f-261178cfd5e4 button');\n",
              "      quickchartButtonEl.style.display =\n",
              "        google.colab.kernel.accessAllowed ? 'block' : 'none';\n",
              "    })();\n",
              "  </script>\n",
              "</div>\n",
              "    </div>\n",
              "  </div>\n"
            ]
          },
          "metadata": {},
          "execution_count": 5
        }
      ]
    },
    {
      "cell_type": "code",
      "source": [
        "df.columns"
      ],
      "metadata": {
        "colab": {
          "base_uri": "https://localhost:8080/"
        },
        "id": "b69RY3UtdEV_",
        "outputId": "b2ce4d72-bcdc-409e-e86d-7805f46b52c9"
      },
      "execution_count": 6,
      "outputs": [
        {
          "output_type": "execute_result",
          "data": {
            "text/plain": [
              "Index(['Close', ' Volume', 'Open', 'High', 'Low'], dtype='object')"
            ]
          },
          "metadata": {},
          "execution_count": 6
        }
      ]
    },
    {
      "cell_type": "code",
      "source": [
        "df['Close'] = pd.to_numeric(df['Close'], errors='coerce')\n",
        "df[' Volume'] = pd.to_numeric(df[' Volume'], errors='coerce')\n",
        "df['Open'] = pd.to_numeric(df['Open'], errors='coerce')\n",
        "df['High'] = pd.to_numeric(df['High'], errors='coerce')\n",
        "df['Low'] = pd.to_numeric(df['Low'], errors='coerce')\n"
      ],
      "metadata": {
        "id": "T8Vx5bc6b8-Q"
      },
      "execution_count": 7,
      "outputs": []
    },
    {
      "cell_type": "code",
      "source": [
        "print(df[\"Close\"].dtype)"
      ],
      "metadata": {
        "colab": {
          "base_uri": "https://localhost:8080/"
        },
        "id": "nxx51rHJb-W8",
        "outputId": "36347799-323b-4845-c872-a5c3378c2aaa"
      },
      "execution_count": 8,
      "outputs": [
        {
          "output_type": "stream",
          "name": "stdout",
          "text": [
            "float64\n"
          ]
        }
      ]
    },
    {
      "cell_type": "code",
      "source": [
        "print(df.head())\n",
        "print(df['Close'].dtype)"
      ],
      "metadata": {
        "colab": {
          "base_uri": "https://localhost:8080/"
        },
        "id": "c56nvUjYdmoc",
        "outputId": "fbe402f4-309c-49fe-f3be-5cceb1447ee0"
      },
      "execution_count": 9,
      "outputs": [
        {
          "output_type": "stream",
          "name": "stdout",
          "text": [
            "            Close     Volume     Open     High      Low\n",
            "Date                                                   \n",
            "2010-03-01  29.86  137312041  29.3928  29.9286  29.3500\n",
            "2010-03-02  29.84  141486282  29.9900  30.1186  29.6771\n",
            "2010-03-03  29.90   92846488  29.8486  29.9814  29.7057\n",
            "2010-03-04  30.10   89591907  29.8971  30.1314  29.8043\n",
            "2010-03-05  31.28  224647427  30.7057  31.3857  30.6614\n",
            "float64\n"
          ]
        }
      ]
    },
    {
      "cell_type": "code",
      "source": [
        "# Plot closing prices\n",
        "df['Close'].plot(figsize=(12,6))\n",
        "plt.title('AAPL Closing Prices')\n",
        "plt.show()"
      ],
      "metadata": {
        "colab": {
          "base_uri": "https://localhost:8080/",
          "height": 526
        },
        "id": "OpMJMRPycocv",
        "outputId": "17cf06d9-500f-4ee6-a603-d05b113e66b9"
      },
      "execution_count": 10,
      "outputs": [
        {
          "output_type": "display_data",
          "data": {
            "text/plain": [
              "<Figure size 1200x600 with 1 Axes>"
            ],
            "image/png": "[encoded data removed]"
          },
          "metadata": {}
        }
      ]
    },
    {
      "cell_type": "markdown",
      "source": [
        "## Implement RSI over bollinger"
      ],
      "metadata": {
        "id": "2pInCfCrewlN"
      }
    },
    {
      "cell_type": "code",
      "source": [
        "# creating dataframes copies to fing optimum average periods\n",
        "df1 = df.copy()\n",
        "df2 = df.copy()\n",
        "df3 = df.copy()\n",
        "df4 = df.copy()"
      ],
      "metadata": {
        "id": "OjuYO0Qzrwu0"
      },
      "execution_count": 11,
      "outputs": []
    },
    {
      "cell_type": "markdown",
      "source": [
        "## Setup and Calculation"
      ],
      "metadata": {
        "id": "WgiyWEVtwmUh"
      }
    },
    {
      "cell_type": "code",
      "source": [
        "import pandas as pd\n",
        "\n",
        "# Calculate the Bollinger Bands\n",
        "df['20_day_MA'] = df['Close'].rolling(window=20).mean()\n",
        "df['20_day_STD'] = df['Close'].rolling(window=20).std()\n",
        "df['Upper_Band'] = df['20_day_MA'] + (df['20_day_STD'] * 2)\n",
        "df['Lower_Band'] = df['20_day_MA'] - (df['20_day_STD'] * 2)\n",
        "\n",
        "# Compute RSI\n",
        "delta = df['Close'].diff(1)\n",
        "gain = delta.where(delta > 0).fillna(0)\n",
        "loss = -delta.where(delta < 0).fillna(0)\n",
        "avg_gain = gain.rolling(window=7).mean()\n",
        "avg_loss = loss.rolling(window=7).mean()\n",
        "rs = avg_gain / avg_loss\n",
        "df['RSI'] = 100 - (100 / (1 + rs))\n"
      ],
      "metadata": {
        "id": "veD94cSzdPjn"
      },
      "execution_count": 18,
      "outputs": []
    },
    {
      "cell_type": "markdown",
      "source": [
        "## Generate Buy and Sell Signals"
      ],
      "metadata": {
        "id": "qEpmj5Szws3q"
      }
    },
    {
      "cell_type": "code",
      "source": [
        "# Create a signal column initialized to 0\n",
        "df['Signal'] = 0.0\n",
        "\n",
        "# Buy signals\n",
        "df.loc[(df['Close'] < df['Lower_Band']) & (df['RSI'] < 30), 'Signal'] = 1.0\n",
        "\n",
        "# Sell signals\n",
        "df.loc[(df['Close'] > df['Upper_Band']) & (df['RSI'] > 70), 'Signal'] = -1.0\n"
      ],
      "metadata": {
        "id": "kyPeKyWftZcX"
      },
      "execution_count": 19,
      "outputs": []
    },
    {
      "cell_type": "markdown",
      "source": [
        "## Implement and Backtest the Strategy"
      ],
      "metadata": {
        "id": "WxA4n9fYfAt5"
      }
    },
    {
      "cell_type": "code",
      "source": [
        "# Calculate daily strategy returns\n",
        "df['Daily_Return'] = df['Close'].pct_change()\n",
        "df['Strategy_Return'] = df['Signal'].shift(1) * df['Daily_Return']\n",
        "\n",
        "# Calculate cumulative returns\n",
        "cumulative_strategy_returns = (df['Strategy_Return'] + 1).cumprod()\n",
        "cumulative_market_returns = (df['Daily_Return'] + 1).cumprod()\n",
        "\n",
        "# Plot the results\n",
        "import matplotlib.pyplot as plt\n",
        "plt.figure(figsize=(12,6))\n",
        "cumulative_market_returns.plot(label='Market Returns', legend=True)\n",
        "cumulative_strategy_returns.plot(label='Strategy Returns', legend=True)\n",
        "plt.title('RSI overlapping Bollinger Bands Strategy vs. Market Returns')\n",
        "plt.xlabel('Date')\n",
        "plt.ylabel('Cumulative Returns')\n",
        "plt.legend()\n",
        "plt.grid(True)\n",
        "plt.show()\n"
      ],
      "metadata": {
        "colab": {
          "base_uri": "https://localhost:8080/",
          "height": 526
        },
        "id": "vCbCj4Jse5Ca",
        "outputId": "afd6f3c7-3f6d-40ef-91ed-f910b003d76d"
      },
      "execution_count": 20,
      "outputs": [
        {
          "output_type": "display_data",
          "data": {
            "text/plain": [
              "<Figure size 1200x600 with 1 Axes>"
            ],
            "image/png": "[encoded data removed]"
          },
          "metadata": {}
        }
      ]
    },
    {
      "cell_type": "markdown",
      "source": [
        "## metrics"
      ],
      "metadata": {
        "id": "2U_LLMigf9-9"
      }
    },
    {
      "cell_type": "code",
      "source": [
        "cumulative_strategy_returns = (df['Strategy_Return'] + 1).cumprod()\n",
        "cumulative_market_returns = (df['Daily_Return'] + 1).cumprod()\n",
        "\n",
        "final_cumulative_strategy_return = cumulative_strategy_returns.iloc[-1] - 1\n",
        "final_cumulative_market_return = cumulative_market_returns.iloc[-1] - 1\n",
        "\n",
        "print(f\"Final Cumulative Strategy Return: {final_cumulative_strategy_return:.2%}\")\n",
        "print(f\"Final Cumulative Market Return: {final_cumulative_market_return:.2%}\")\n",
        "\n"
      ],
      "metadata": {
        "colab": {
          "base_uri": "https://localhost:8080/"
        },
        "id": "V2Gs6HrFfCEa",
        "outputId": "382c3425-6882-4f07-c57c-7baf1ef66949"
      },
      "execution_count": 21,
      "outputs": [
        {
          "output_type": "stream",
          "name": "stdout",
          "text": [
            "Final Cumulative Strategy Return: -11.32%\n",
            "Final Cumulative Market Return: 815.47%\n"
          ]
        }
      ]
    },
    {
      "cell_type": "code",
      "source": [
        "# import pandas as pd\n",
        "from scipy.stats import skew, kurtosis\n",
        "\n",
        "def print_strategy_metrics(df):\n",
        "    # Max Drawdown\n",
        "    def max_drawdown(returns_series):\n",
        "        cumulative_returns = (1 + returns_series).cumprod()\n",
        "        rolling_max = cumulative_returns.cummax()\n",
        "        drawdowns = (cumulative_returns - rolling_max) / rolling_max\n",
        "        return drawdowns.min()\n",
        "\n",
        "    # Cumulative Returns\n",
        "    final_cumulative_strategy_return = (df['Strategy_Return'] + 1).cumprod().iloc[-1] - 1\n",
        "    final_cumulative_market_return = (df['Daily_Return'] + 1).cumprod().iloc[-1] - 1\n",
        "\n",
        "    # Annualized Returns\n",
        "    annualized_strategy_return = (1 + df['Strategy_Return'].mean())**252 - 1\n",
        "    annualized_market_return = (1 + df['Daily_Return'].mean())**252 - 1\n",
        "\n",
        "    # Annualized Volatility\n",
        "    annualized_strategy_volatility = df['Strategy_Return'].std() * (252**0.5)\n",
        "    annualized_market_volatility = df['Daily_Return'].std() * (252**0.5)\n",
        "\n",
        "    # Skewness & Kurtosis\n",
        "    strategy_skewness = skew(df['Strategy_Return'].dropna())\n",
        "    strategy_kurtosis = kurtosis(df['Strategy_Return'].dropna())\n",
        "\n",
        "    # VaR (95% one-day VaR)\n",
        "    var_95 = df['Strategy_Return'].quantile(0.05)\n",
        "\n",
        "\n",
        "    # Sharpe Ratio\n",
        "    risk_free_rate = 0.0\n",
        "    sharpe_ratio = (annualized_strategy_return - risk_free_rate) / annualized_strategy_volatility\n",
        "\n",
        "    # Sortino Ratio\n",
        "    downside_volatility = df[df['Strategy_Return'] < 0]['Strategy_Return'].std() * (252**0.5)\n",
        "    sortino_ratio = (annualized_strategy_return - risk_free_rate) / downside_volatility\n",
        "\n",
        "    # Beta\n",
        "    cov_matrix = df[['Strategy_Return', 'Daily_Return']].cov()\n",
        "    beta = cov_matrix.iloc[0, 1] / df['Daily_Return'].var()\n",
        "\n",
        "    # Print Metrics\n",
        "    print(f\"Final Cumulative Strategy Return: {final_cumulative_strategy_return:.2%}\")\n",
        "    print(f\"Final Cumulative Market Return: {final_cumulative_market_return:.2%}\")\n",
        "    print(f\"Annualized Strategy Return: {annualized_strategy_return:.2%}\")\n",
        "    print(f\"Annualized Market Return: {annualized_market_return:.2%}\")\n",
        "    print(f\"Annualized Strategy Volatility: {annualized_strategy_volatility:.2%}\")\n",
        "    print(f\"Annualized Market Volatility: {annualized_market_volatility:.2%}\")\n",
        "    print(f\"Strategy Max Drawdown: {max_drawdown(df['Strategy_Return']):.2%}\")\n",
        "    print(f\"Strategy Skewness: {strategy_skewness:.2f}\")\n",
        "    print(f\"Strategy Kurtosis: {strategy_kurtosis:.2f}\")\n",
        "    print(f\"Strategy 95% 1-day VaR: {var_95:.2%}\")\n",
        "    print(f\"Strategy Sharpe Ratio: {sharpe_ratio:.2f}\")\n",
        "    print(f\"Strategy Sortino Ratio: {sortino_ratio:.2f}\")\n",
        "    print(f\"Strategy Beta: {beta:.2f}\")\n",
        "\n",
        "\n",
        "# Call the function\n",
        "print_strategy_metrics(df)\n"
      ],
      "metadata": {
        "colab": {
          "base_uri": "https://localhost:8080/"
        },
        "id": "YMxvSWGDf_c0",
        "outputId": "b40aaf0b-83f8-4236-c834-fd49a4a87817"
      },
      "execution_count": 22,
      "outputs": [
        {
          "output_type": "stream",
          "name": "stdout",
          "text": [
            "Final Cumulative Strategy Return: -11.32%\n",
            "Final Cumulative Market Return: 815.47%\n",
            "Annualized Strategy Return: -0.80%\n",
            "Annualized Market Return: 29.06%\n",
            "Annualized Strategy Volatility: 8.99%\n",
            "Annualized Market Volatility: 25.83%\n",
            "Strategy Max Drawdown: -33.34%\n",
            "Strategy Skewness: 2.25\n",
            "Strategy Kurtosis: 62.26\n",
            "Strategy 95% 1-day VaR: -0.06%\n",
            "Strategy Sharpe Ratio: -0.09\n",
            "Strategy Sortino Ratio: -0.05\n",
            "Strategy Beta: 0.05\n"
          ]
        }
      ]
    },
    {
      "cell_type": "code",
      "source": [
        "df[\"Signal\"].value_counts()"
      ],
      "metadata": {
        "colab": {
          "base_uri": "https://localhost:8080/"
        },
        "id": "XlWONW_g8ppx",
        "outputId": "3fd23042-0be3-48b3-f5a2-81620f7f3ef9"
      },
      "execution_count": 23,
      "outputs": [
        {
          "output_type": "execute_result",
          "data": {
            "text/plain": [
              " 0.0    2266\n",
              "-1.0     158\n",
              " 1.0      94\n",
              "Name: Signal, dtype: int64"
            ]
          },
          "metadata": {},
          "execution_count": 23
        }
      ]
    },
    {
      "cell_type": "code",
      "source": [],
      "metadata": {
        "id": "PPH2ObVKw1Je"
      },
      "execution_count": null,
      "outputs": []
    }
  ]
}